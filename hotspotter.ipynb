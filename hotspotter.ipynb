{
 "cells": [
  {
   "cell_type": "code",
   "execution_count": 25,
   "metadata": {
    "collapsed": true
   },
   "outputs": [],
   "source": [
    "import arcpy\n",
    "import numpy as np"
   ]
  },
  {
   "cell_type": "code",
   "execution_count": 26,
   "metadata": {
    "collapsed": true
   },
   "outputs": [],
   "source": [
    "arcpy.env.workspace = 'data/prace_mista.gdb'\n",
    "arcpy.env.overwriteOutput = True"
   ]
  },
  {
   "cell_type": "code",
   "execution_count": 27,
   "metadata": {
    "collapsed": true
   },
   "outputs": [],
   "source": [
    "fc = 'mista_2015_09_15_loc'"
   ]
  },
  {
   "cell_type": "code",
   "execution_count": 28,
   "metadata": {
    "collapsed": true
   },
   "outputs": [],
   "source": [
    "vals = []\n",
    "\n",
    "with arcpy.da.SearchCursor(fc, ['OBOR_nazev']) as cursor:\n",
    "    for row in cursor:\n",
    "        if (row[0] not in vals):\n",
    "            vals.append(row[0])\n",
    "        else:\n",
    "            continue"
   ]
  },
  {
   "cell_type": "code",
   "execution_count": 29,
   "metadata": {
    "collapsed": true
   },
   "outputs": [],
   "source": [
    "def normalizer(string):\n",
    "    diacs = {'á': 'a', 'é': 'e', 'í': 'i', 'ó': 'o', 'ú': 'u', 'ý': 'y', 'č': 'c', 'ď': 'd', 'ě': 'e', 'ň': 'n', 'ř': 'r', 'š': 's', 'ť': 't', 'ž': 'z', 'ů': 'u'}\n",
    "    string = string.lower()\n",
    "    for dia in diacs:\n",
    "        if dia in string:\n",
    "            string = string.replace(dia, diacs[dia])\n",
    "    return string"
   ]
  },
  {
   "cell_type": "code",
   "execution_count": 30,
   "metadata": {
    "collapsed": false
   },
   "outputs": [],
   "source": [
    "for val in vals:\n",
    "    if val == None:\n",
    "        continue\n",
    "    else:\n",
    "        arcpy.MakeFeatureLayer_management(in_features=fc, out_layer=\"select_lyr\", where_clause=\"OBOR_nazev = '\" + val + \"'\")\n",
    "        arcpy.gp.PointDensity_sa(\"select_lyr\", \"NONE\", \"pd_\" + normalizer(val), \"10000\", \"Circle 10000 MAP\", \"SQUARE_METERS\")"
   ]
  }
 ],
 "metadata": {
  "kernelspec": {
   "display_name": "Python 3",
   "language": "python",
   "name": "python3"
  },
  "language_info": {
   "codemirror_mode": {
    "name": "ipython",
    "version": 3
   },
   "file_extension": ".py",
   "mimetype": "text/x-python",
   "name": "python",
   "nbconvert_exporter": "python",
   "pygments_lexer": "ipython3",
   "version": "3.4.3"
  }
 },
 "nbformat": 4,
 "nbformat_minor": 0
}
