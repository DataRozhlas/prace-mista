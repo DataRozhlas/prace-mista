{
 "cells": [
  {
   "cell_type": "code",
   "execution_count": 1,
   "metadata": {
    "collapsed": true
   },
   "outputs": [],
   "source": [
    "import arcpy"
   ]
  },
  {
   "cell_type": "code",
   "execution_count": 2,
   "metadata": {
    "collapsed": true
   },
   "outputs": [],
   "source": [
    "obory = {'Výroba a provoz': 'Výroba, stavebnictví, doprava', 'Doprava': 'Výroba, stavebnictví, doprava', 'Stavebnictví': 'Výroba, stavebnictví, doprava', 'Kultura a sport': 'Kultura, sport, vzdělávání', 'Výchova a vzdělávání': 'Kultura, sport, vzdělávání', 'Finance': 'Finance, právo a IT', 'Právo': 'Finance, právo a IT', 'Informační technologie': 'Finance, právo a IT', 'Administrativa': 'Administrativa a management', 'Management': 'Administrativa a management', 'Služby': 'Služby, obchod, cestovní ruch', 'Obchod a cestovní ruch': 'Služby, obchod, cestovní ruch', 'Obrana a ochrana': 'Obrana a ochrana', 'Zdravotnictví': 'Zdravotnictví', 'Zemědělství a lesnictví': 'Zemědělství a lesnictví'}"
   ]
  },
  {
   "cell_type": "code",
   "execution_count": 3,
   "metadata": {
    "collapsed": true
   },
   "outputs": [],
   "source": [
    "arcpy.env.workspace = './data/prace_mista.gdb'\n",
    "arcpy.env.overwriteOutput = True"
   ]
  },
  {
   "cell_type": "code",
   "execution_count": 4,
   "metadata": {
    "collapsed": true
   },
   "outputs": [],
   "source": [
    "fc = 'mista_2015_10_14_loc_wmerc'"
   ]
  },
  {
   "cell_type": "code",
   "execution_count": 5,
   "metadata": {
    "collapsed": false
   },
   "outputs": [],
   "source": [
    "rows = arcpy.UpdateCursor(fc)\n",
    "\n",
    "ost = 0\n",
    "\n",
    "for row in rows:\n",
    "    try:\n",
    "        row.OBOR_nad_nazev = obory[row.OBOR_nazev]\n",
    "        rows.updateRow(row)\n",
    "    except:\n",
    "        ost += 1\n",
    "        row.OBOR_nad_nazev = 'ostatni'\n",
    "        rows.updateRow(row)\n",
    "\n",
    "# Delete cursor and row objects to remove locks on the data \n",
    "del row \n",
    "del rows"
   ]
  },
  {
   "cell_type": "code",
   "execution_count": 6,
   "metadata": {
    "collapsed": false
   },
   "outputs": [
    {
     "data": {
      "text/plain": [
       "207"
      ]
     },
     "execution_count": 6,
     "metadata": {},
     "output_type": "execute_result"
    }
   ],
   "source": [
    "ost"
   ]
  }
 ],
 "metadata": {
  "kernelspec": {
   "display_name": "Python 3",
   "language": "python",
   "name": "python3"
  },
  "language_info": {
   "codemirror_mode": {
    "name": "ipython",
    "version": 3
   },
   "file_extension": ".py",
   "mimetype": "text/x-python",
   "name": "python",
   "nbconvert_exporter": "python",
   "pygments_lexer": "ipython3",
   "version": "3.4.3"
  }
 },
 "nbformat": 4,
 "nbformat_minor": 0
}
