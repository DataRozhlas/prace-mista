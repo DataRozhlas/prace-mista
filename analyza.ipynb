{
 "cells": [
  {
   "cell_type": "code",
   "execution_count": 2,
   "metadata": {
    "collapsed": true
   },
   "outputs": [],
   "source": [
    "import pandas as pd\n",
    "import numpy as np\n",
    "import matplotlib.pyplot as plt\n",
    "%matplotlib inline"
   ]
  },
  {
   "cell_type": "code",
   "execution_count": 6,
   "metadata": {
    "collapsed": false
   },
   "outputs": [],
   "source": [
    "data = pd.read_csv(r'data/mista_2015_09_15.csv', encoding='utf-8', sep=',')"
   ]
  },
  {
   "cell_type": "code",
   "execution_count": 7,
   "metadata": {
    "collapsed": false
   },
   "outputs": [
    {
     "data": {
      "text/plain": [
       "Index(['Unnamed: 0', 'MZDA_min', 'ZELENE_KARTY_celkemVmProZk', 'OBOR_kod',\n",
       "       'SMENNOST_nazev', 'MODRE_KARTY_vmRezervProMk', 'PRACOVISTE_ulice',\n",
       "       'KONOS_telefon', 'MODRE_KARTY_celkemVmProMk',\n",
       "       'ZELENE_KARTY_vmRezervProZk', 'FIRMA_ic', 'KONOS_titul', 'UVAZEK_nazev',\n",
       "       'URAD_PRACE_nazev', 'URAD_PRACE_kod', 'MODRE_KARTY_vmRezervProVyhovMk',\n",
       "       'ZELENE_KARTY_vmRezervProPodanZk', 'MODRE_KARTY_pocetVmProMk',\n",
       "       'UVAZEK_kod', 'PRACOVISTE_nazev', 'PRACOVISTE_cobce', 'PRAC_POMER_od',\n",
       "       'ZELENE_KARTY_vmRezervProVydanZk', 'PRACPRAVNI_VZTAH_kod',\n",
       "       'PRACOVISTE_okres', 'PROFESE_doplnek', 'celkemVm',\n",
       "       'ZAMEST_KARTY_vmRezervProZm', 'VHODNE_PRO_absolventySs',\n",
       "       'PRACOVISTE_posta', 'MZDA_max', 'KONOS_jmeno',\n",
       "       'MODRE_KARTY_vmRezervProPodanMk', 'MIN_VZDELANI_kod', 'PRACOVISTE_cp',\n",
       "       'PRACPRAVNI_VZTAH_nazev', 'PRACOVISTE_psc',\n",
       "       'ZAMEST_KARTY_celkemVmProZm', 'VHODNE_PRO_ozp',\n",
       "       'MODRE_KARTY_vmRezervProVydanMk', 'PROFESE_nazev', 'KONOS_email',\n",
       "       'KONOS_prijmeni', 'ZAMEST_KARTY_pocetVmProZm', 'MIN_VZDELANI_nazev',\n",
       "       'ZAMEST_KARTY_vmRezervProVydanZm', 'SMENNOST_kod',\n",
       "       'ZAMEST_KARTY_vmRezervProVyhovZm', 'VHODNE_PRO_absolventyVs',\n",
       "       'ZAMEST_KARTY_vmRezervProPodanZm', 'VHODNE_PRO_cizince',\n",
       "       'PRACOVISTE_obec', 'ZELENE_KARTY_typZk',\n",
       "       'ZELENE_KARTY_vmRezervProVyhovZk', 'ZELENE_KARTY_pocetVmProZk',\n",
       "       'OBOR_nazev', 'PROFESE_kod', 'ZELENE_KARTY_klicovyPersonal',\n",
       "       'PRACOVISTE_okresKod', 'VHODNE_PRO_bezbar', 'FIRMA_nazev',\n",
       "       'PRACOVISTE_co', 'PRAC_POMER_do', 'DOVEDNOST_nazev', 'VYHODA_nazev',\n",
       "       'VYHODA_kod', 'DOVEDNOST_kod', 'FIRMA_www', 'POVOLANI_kod',\n",
       "       'POVOLANI_nazev', 'DOVEDNOST_popis', 'KONOS_adresa', 'JAZYK_urovenKod',\n",
       "       'JAZYK_kod', 'JAZYK_nazev', 'JAZYK_uroven', 'JAZYK_popis',\n",
       "       'KONOS_titulZa', 'VYHODA_popis', 'VZDELANI_kod', 'POVOLANI_praxe',\n",
       "       'VZDELANI_nazev', 'DOVEDNOST_praxe', 'addr'],\n",
       "      dtype='object')"
      ]
     },
     "execution_count": 7,
     "metadata": {},
     "output_type": "execute_result"
    }
   ],
   "source": [
    "data.columns"
   ]
  },
  {
   "cell_type": "code",
   "execution_count": 8,
   "metadata": {
    "collapsed": false
   },
   "outputs": [
    {
     "data": {
      "text/plain": [
       "Kuchaři (kromě šéfkuchařů)                                                           57\n",
       "Číšníci a servírky                                                                   36\n",
       "Svářeči                                                                              30\n",
       "Obchodní zástupci                                                                    23\n",
       "Řidiči nákladních automobilů, tahačů a speciálních vozidel                           23\n",
       "Prodavači potravinářského zboží                                                      21\n",
       "Pracovníci ostrahy, strážní                                                          19\n",
       "Řidiči nákladních automobilů (kromě tahačů)                                          19\n",
       "Skladníci, obsluha manipulačních vozíků                                              14\n",
       "Pomocníci v kuchyni                                                                  14\n",
       "Zedníci (kromě zedníků ohnivzdorného zdiva)                                          14\n",
       "Provozní zámečníci, údržbáři                                                         13\n",
       "Zámečníci strojů                                                                     12\n",
       "Obchodní referenti                                                                   11\n",
       "Mechanici a opraváři osobních automobilů                                             11\n",
       "Seřizovači a obsluha číslicově řízených strojů                                       10\n",
       "Stavební a provozní elektrikáři                                                      10\n",
       "Provozní elektromechanici                                                             9\n",
       "Strojírenští technici projektanti, konstruktéři                                       8\n",
       "Dělníci v oblasti výstavby budov                                                      8\n",
       "Elektromechanici                                                                      8\n",
       "Truhláři (kromě stavebních) a pracovníci v příbuzných oborech                         8\n",
       "Prodavači ostatního zboží v prodejnách                                                7\n",
       "Uklízeči a pomocníci v ubytovacích a vzdělávacích zařízeních                          7\n",
       "Pomocní dělníci ve výrobě                                                             6\n",
       "Všeobecné sestry s osvědčením                                                         6\n",
       "Všeobecní administrativní pracovníci                                                  6\n",
       "Cukráři (kromě šéfcukrářů)                                                            6\n",
       "Pomocní kuchaři                                                                       6\n",
       "Dopravní dispečeři                                                                    6\n",
       "                                                                                     ..\n",
       "Mechanici a opraváři mechanických částí energetických zařízení a elektropřístrojů     1\n",
       "Obsluha ostatních zařízení na zpracování kovů                                         1\n",
       "Pracovníci přípravy tisku                                                             1\n",
       "Ostatní pracovníci osobní péče ve zdravotní a sociální oblasti jinde neuvedení        1\n",
       "Vrátní                                                                                1\n",
       "Horníci v dolech jiných než uhelných a rudných, kamenolamači (převážně ruční)         1\n",
       "Sestry pro pediatrii                                                                  1\n",
       "Techničtí a odborní pracovníci                                                        1\n",
       "Elektrotechnici a technici energetici přístrojů, strojů a zařízení                    1\n",
       "Inženýři projektanti, konstruktéři v ostatních oborech                                1\n",
       "Nákupčí                                                                               1\n",
       "Pracovníci v zákaznických kontaktních centrech                                        1\n",
       "Specialisté v oblasti výchovy a vzdělávání                                            1\n",
       "Pomocní a nekvalifikovaní pracovníci ve službách jinde neuvedení                      1\n",
       "Mechanici a opraváři ostatních strojů a zařízení (kromě přesných strojů)              1\n",
       "Páječi                                                                                1\n",
       "Obsluha zařízení ve slévárenství (taviči, slévači)                                    1\n",
       "Mistři a příbuzní pracovníci ve výrobě (kromě hutní výroby a slévárenství)            1\n",
       "Strojírenští technici ve výzkumu a vývoji                                             1\n",
       "Odborní pracovníci v oblasti kvality a certifikace systému řízení (ISO)               1\n",
       "Lékaři v pediatrii                                                                    1\n",
       "Obsluha zařízení na tepelné zpracování kovů                                           1\n",
       "Uklízeči a pomocníci ve zdravotnických a sociálních zařízeních                        1\n",
       "Prodavači smíšeného zboží                                                             1\n",
       "Hlavní účetní                                                                         1\n",
       "Uklízeči a pomocníci v administrativních objektech                                    1\n",
       "Řídící pracovníci stavebního provozu                                                  1\n",
       "Chovatelé ostatních hospodářských zvířat (kromě drůbeže)                              1\n",
       "Prodavači drobného zboží, klenotů, nábytku a bytových doplňků                         1\n",
       "Pomocní manipulační pracovníci (kromě výroby)                                         1\n",
       "dtype: int64"
      ]
     },
     "execution_count": 8,
     "metadata": {},
     "output_type": "execute_result"
    }
   ],
   "source": [
    "data.POVOLANI_nazev.value_counts()"
   ]
  },
  {
   "cell_type": "code",
   "execution_count": 9,
   "metadata": {
    "collapsed": false,
    "scrolled": true
   },
   "outputs": [
    {
     "data": {
      "text/plain": [
       "OBOR_nazev\n",
       "Administrativa             14334.752174\n",
       "Doprava                    18234.758576\n",
       "Finance                    17964.706973\n",
       "Informační technologie     25191.415369\n",
       "Kultura a sport            15172.404624\n",
       "Management                 35253.366337\n",
       "Obchod a cestovní ruch     13912.946657\n",
       "Obrana a ochrana            9479.762174\n",
       "Právo                      18840.960000\n",
       "Služby                     11306.526437\n",
       "Stavebnictví               13669.407852\n",
       "Výchova a vzdělávání       14594.106270\n",
       "Výroba a provoz            14682.374140\n",
       "Věda a výzkum              29327.272727\n",
       "Zdravotnictví              18466.302740\n",
       "Zemědělství a lesnictví    12357.464407\n",
       "Name: MZDA_min, dtype: float64"
      ]
     },
     "execution_count": 9,
     "metadata": {},
     "output_type": "execute_result"
    }
   ],
   "source": [
    "data.groupby('OBOR_nazev').MZDA_min.mean()"
   ]
  },
  {
   "cell_type": "code",
   "execution_count": 10,
   "metadata": {
    "collapsed": false
   },
   "outputs": [],
   "source": [
    "data.groupby(['PRACOVISTE_okres', 'OBOR_nazev']).MZDA_min.mean().to_csv(r'data/platy_obory_okresy.csv', encoding='utf-8')"
   ]
  }
 ],
 "metadata": {
  "kernelspec": {
   "display_name": "Python 3",
   "language": "python",
   "name": "python3"
  },
  "language_info": {
   "codemirror_mode": {
    "name": "ipython",
    "version": 3
   },
   "file_extension": ".py",
   "mimetype": "text/x-python",
   "name": "python",
   "nbconvert_exporter": "python",
   "pygments_lexer": "ipython3",
   "version": "3.4.3"
  }
 },
 "nbformat": 4,
 "nbformat_minor": 0
}
