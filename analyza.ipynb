{
 "cells": [
  {
   "cell_type": "code",
   "execution_count": 1,
   "metadata": {
    "collapsed": true
   },
   "outputs": [],
   "source": [
    "import pandas as pd\n",
    "import numpy as np\n",
    "import matplotlib.pyplot as plt\n",
    "%matplotlib inline"
   ]
  },
  {
   "cell_type": "code",
   "execution_count": 2,
   "metadata": {
    "collapsed": false
   },
   "outputs": [
    {
     "name": "stderr",
     "output_type": "stream",
     "text": [
      "C:\\Anaconda3\\lib\\site-packages\\pandas\\io\\parsers.py:1170: DtypeWarning: Columns (64) have mixed types. Specify dtype option on import or set low_memory=False.\n",
      "  data = self._reader.read(nrows)\n"
     ]
    }
   ],
   "source": [
    "data = pd.read_csv(r'data/mista_2015_10_14.csv', encoding='utf-8', sep=',')"
   ]
  },
  {
   "cell_type": "code",
   "execution_count": 7,
   "metadata": {
    "collapsed": false
   },
   "outputs": [
    {
     "data": {
      "text/plain": [
       "45082"
      ]
     },
     "execution_count": 7,
     "metadata": {},
     "output_type": "execute_result"
    }
   ],
   "source": [
    "len(data)"
   ]
  },
  {
   "cell_type": "code",
   "execution_count": 17,
   "metadata": {
    "collapsed": false
   },
   "outputs": [
    {
     "data": {
      "text/plain": [
       "Index(['Unnamed: 0', 'ZELENE_KARTY_vmRezervProZk', 'MZDA_min',\n",
       "       'MODRE_KARTY_vmRezervProVyhovMk', 'PRACPRAVNI_VZTAH_nazev',\n",
       "       'PRACOVISTE_okresKod', 'ZELENE_KARTY_vmRezervProVydanZk', 'FIRMA_ic',\n",
       "       'MODRE_KARTY_celkemVmProMk', 'OBOR_nazev', 'PRACOVISTE_cobce',\n",
       "       'KONOS_jmeno', 'ZELENE_KARTY_celkemVmProZk',\n",
       "       'ZELENE_KARTY_pocetVmProZk', 'VHODNE_PRO_cizince',\n",
       "       'MODRE_KARTY_pocetVmProMk', 'SMENNOST_nazev', 'PRACOVISTE_obec',\n",
       "       'ZAMEST_KARTY_vmRezervProVyhovZm', 'MZDA_max',\n",
       "       'ZAMEST_KARTY_vmRezervProZm', 'celkemVm', 'VHODNE_PRO_absolventyVs',\n",
       "       'PRACOVISTE_cp', 'ZELENE_KARTY_vmRezervProVyhovZk',\n",
       "       'MODRE_KARTY_vmRezervProMk', 'PRACOVISTE_ulice',\n",
       "       'MODRE_KARTY_vmRezervProVydanMk', 'ZELENE_KARTY_klicovyPersonal',\n",
       "       'VHODNE_PRO_absolventySs', 'ZAMEST_KARTY_celkemVmProZm',\n",
       "       'PRACPRAVNI_VZTAH_kod', 'KONOS_email', 'PROFESE_kod',\n",
       "       'ZELENE_KARTY_typZk', 'MIN_VZDELANI_kod', 'MIN_VZDELANI_nazev',\n",
       "       'URAD_PRACE_nazev', 'SMENNOST_kod', 'ZELENE_KARTY_vmRezervProPodanZk',\n",
       "       'KONOS_prijmeni', 'ZAMEST_KARTY_pocetVmProZm', 'VHODNE_PRO_bezbar',\n",
       "       'PRACOVISTE_psc', 'PROFESE_nazev', 'PRACOVISTE_posta', 'OBOR_kod',\n",
       "       'PRACOVISTE_co', 'PRACOVISTE_nazev', 'ZAMEST_KARTY_vmRezervProPodanZm',\n",
       "       'MODRE_KARTY_vmRezervProPodanMk', 'ZAMEST_KARTY_vmRezervProVydanZm',\n",
       "       'URAD_PRACE_kod', 'PROFESE_doplnek', 'PRAC_POMER_od', 'UVAZEK_nazev',\n",
       "       'FIRMA_nazev', 'PRACOVISTE_okres', 'VHODNE_PRO_ozp', 'UVAZEK_kod',\n",
       "       'KONOS_telefon', 'KONOS_adresa', 'PRAC_POMER_do', 'KONOS_titul',\n",
       "       'JAZYK_urovenKod', 'JAZYK_nazev', 'JAZYK_popis', 'JAZYK_uroven',\n",
       "       'JAZYK_kod', 'KONOS_titulZa', 'FIRMA_www', 'VYHODA_kod', 'VYHODA_nazev',\n",
       "       'VYHODA_popis', 'VZDELANI_nazev', 'DOVEDNOST_popis', 'POVOLANI_kod',\n",
       "       'VZDELANI_kod', 'DOVEDNOST_nazev', 'DOVEDNOST_kod', 'POVOLANI_nazev',\n",
       "       'POVOLANI_praxe', 'DOVEDNOST_praxe', 'addr'],\n",
       "      dtype='object')"
      ]
     },
     "execution_count": 17,
     "metadata": {},
     "output_type": "execute_result"
    }
   ],
   "source": [
    "data.columns"
   ]
  },
  {
   "cell_type": "code",
   "execution_count": 14,
   "metadata": {
    "collapsed": false
   },
   "outputs": [
    {
     "data": {
      "text/plain": [
       "N    44329\n",
       "A      753\n",
       "dtype: int64"
      ]
     },
     "execution_count": 14,
     "metadata": {},
     "output_type": "execute_result"
    }
   ],
   "source": [
    "data.VHODNE_PRO_absolventyVs.value_counts()"
   ]
  },
  {
   "cell_type": "code",
   "execution_count": 16,
   "metadata": {
    "collapsed": false
   },
   "outputs": [
    {
     "data": {
      "text/plain": [
       "Praha                   4597\n",
       "Ostrava                 2097\n",
       "Brno                    1457\n",
       "Plzeň                   1094\n",
       "České Budějovice         954\n",
       "Liberec                  846\n",
       "Olomouc                  724\n",
       "Hradec Králové           526\n",
       "Karlovy Vary             483\n",
       "Zlín                     424\n",
       "Pardubice                399\n",
       "Opava                    356\n",
       "Teplice                  330\n",
       "Prostějov                325\n",
       "Jihlava                  301\n",
       "Písek                    284\n",
       "Příbram                  277\n",
       "Cheb                     273\n",
       "Valašské Meziříčí        270\n",
       "Mladá Boleslav           269\n",
       "Kladno                   259\n",
       "Frýdek-Místek            255\n",
       "Břeclav                  249\n",
       "Klatovy                  246\n",
       "Kroměříž                 233\n",
       "Třebíč                   232\n",
       "Uherské Hradiště         232\n",
       "Jablonec nad Nisou       222\n",
       "Ústí nad Labem           218\n",
       "Česká Lípa               218\n",
       "                        ... \n",
       "Svatoslav                  1\n",
       "Brandov                    1\n",
       "Úsov                       1\n",
       "Knínice                    1\n",
       "Habartice                  1\n",
       "Rozkoš                     1\n",
       "Stavěšice                  1\n",
       "Lupenice                   1\n",
       "Maršovice                  1\n",
       "Šakvice                    1\n",
       "Drnholec                   1\n",
       "Dolní Dunajovice           1\n",
       "Pozďatín                   1\n",
       "Obora                      1\n",
       "Žákava                     1\n",
       "Všeň                       1\n",
       "Čankovice                  1\n",
       "Liblín                     1\n",
       "Stará Voda                 1\n",
       "Sadová                     1\n",
       "Mladecko                   1\n",
       "Drahany                    1\n",
       "Ludslavice                 1\n",
       "Deštná                     1\n",
       "Petráveč                   1\n",
       "Mníšek                     1\n",
       "Hajany                     1\n",
       "Hora Svatého Václava       1\n",
       "Ploskovice                 1\n",
       "Horní Bělá                 1\n",
       "dtype: int64"
      ]
     },
     "execution_count": 16,
     "metadata": {},
     "output_type": "execute_result"
    }
   ],
   "source": [
    "data.PRACOVISTE_obec.value_counts()"
   ]
  },
  {
   "cell_type": "code",
   "execution_count": 8,
   "metadata": {
    "collapsed": false
   },
   "outputs": [
    {
     "data": {
      "text/plain": [
       "Výroba a provoz            15700\n",
       "Obchod a cestovní ruch      9507\n",
       "Služby                      4381\n",
       "Doprava                     2962\n",
       "Stavebnictví                2751\n",
       "Zdravotnictví               2256\n",
       "Obrana a ochrana            1828\n",
       "Finance                     1231\n",
       "Administrativa              1135\n",
       "Informační technologie       953\n",
       "Zemědělství a lesnictví      867\n",
       "Výchova a vzdělávání         847\n",
       "Management                   217\n",
       "Kultura a sport              172\n",
       "Právo                         68\n",
       "Věda a výzkum                 53\n",
       "dtype: int64"
      ]
     },
     "execution_count": 8,
     "metadata": {},
     "output_type": "execute_result"
    }
   ],
   "source": [
    "data.OBOR_nazev.value_counts()"
   ]
  },
  {
   "cell_type": "code",
   "execution_count": 10,
   "metadata": {
    "collapsed": false,
    "scrolled": false
   },
   "outputs": [
    {
     "data": {
      "text/plain": [
       "OBOR_nazev\n",
       "Obrana a ochrana            9528.037199\n",
       "Služby                     11499.493495\n",
       "Zemědělství a lesnictví    12636.716263\n",
       "Stavebnictví               13543.051254\n",
       "Obchod a cestovní ruch     14121.317450\n",
       "Administrativa             14241.479295\n",
       "Výchova a vzdělávání       14575.598583\n",
       "Výroba a provoz            14705.805414\n",
       "Kultura a sport            15053.494186\n",
       "Doprava                    18260.494261\n",
       "Finance                    18288.852153\n",
       "Zdravotnictví              18608.749113\n",
       "Právo                      18946.470588\n",
       "Informační technologie     25617.377754\n",
       "Věda a výzkum              30836.226415\n",
       "Management                 33695.267281\n",
       "Name: MZDA_min, dtype: float64"
      ]
     },
     "execution_count": 10,
     "metadata": {},
     "output_type": "execute_result"
    }
   ],
   "source": [
    "data.groupby('OBOR_nazev').MZDA_min.mean().order()"
   ]
  },
  {
   "cell_type": "code",
   "execution_count": 10,
   "metadata": {
    "collapsed": false
   },
   "outputs": [],
   "source": [
    "data.groupby(['PRACOVISTE_okres', 'OBOR_nazev']).MZDA_min.mean().to_csv(r'data/platy_obory_okresy.csv', encoding='utf-8')"
   ]
  }
 ],
 "metadata": {
  "kernelspec": {
   "display_name": "Python 3",
   "language": "python",
   "name": "python3"
  },
  "language_info": {
   "codemirror_mode": {
    "name": "ipython",
    "version": 3
   },
   "file_extension": ".py",
   "mimetype": "text/x-python",
   "name": "python",
   "nbconvert_exporter": "python",
   "pygments_lexer": "ipython3",
   "version": "3.4.3"
  }
 },
 "nbformat": 4,
 "nbformat_minor": 0
}
