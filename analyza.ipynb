{
 "cells": [
  {
   "cell_type": "code",
   "execution_count": 1,
   "metadata": {
    "collapsed": true
   },
   "outputs": [],
   "source": [
    "import pandas as pd\n",
    "import numpy as np\n",
    "import matplotlib.pyplot as plt\n",
    "%matplotlib inline"
   ]
  },
  {
   "cell_type": "code",
   "execution_count": 2,
   "metadata": {
    "collapsed": true
   },
   "outputs": [],
   "source": [
    "data = pd.read_excel(r'data/data.xlsx')"
   ]
  },
  {
   "cell_type": "code",
   "execution_count": 3,
   "metadata": {
    "collapsed": false
   },
   "outputs": [
    {
     "data": {
      "text/plain": [
       "Index(['ObjectID', 'X', 'Y', 'pracakID', 'MZDA_min',\n",
       "       'MODRE_KARTY_pocetVmProMk', 'PRACPRAVNI_VZTAH_kod', 'UVAZEK_kod',\n",
       "       'ZELENE_KARTY_vmRezervProVyhovZk', 'URAD_PRACE_nazev',\n",
       "       'PRACOVISTE_okresKod', 'MZDA_max', 'ZAMEST_KARTY_vmRezervProVyhovZm',\n",
       "       'PRACOVISTE_psc', 'MODRE_KARTY_vmRezervProPodanMk',\n",
       "       'ZELENE_KARTY_celkemVmProZk', 'ZAMEST_KARTY_vmRezervProZm',\n",
       "       'ZAMEST_KARTY_celkemVmProZm', 'MIN_VZDELANI_nazev',\n",
       "       'ZELENE_KARTY_vmRezervProPodanZk', 'VHODNE_PRO_absolventyVs',\n",
       "       'VHODNE_PRO_ozp', 'MODRE_KARTY_vmRezervProVydanMk', 'PRACOVISTE_cobce',\n",
       "       'MIN_VZDELANI_kod', 'VHODNE_PRO_bezbar', 'VHODNE_PRO_absolventySs',\n",
       "       'PROFESE_nazev', 'ZAMEST_KARTY_pocetVmProZm',\n",
       "       'MODRE_KARTY_celkemVmProMk', 'PRACOVISTE_okres', 'OBOR_nazev',\n",
       "       'URAD_PRACE_kod', 'PROFESE_doplnek', 'MODRE_KARTY_vmRezervProVyhovMk',\n",
       "       'ZAMEST_KARTY_vmRezervProVydanZm', 'MODRE_KARTY_vmRezervProMk',\n",
       "       'PROFESE_kod', 'ZELENE_KARTY_typZk', 'ZELENE_KARTY_klicovyPersonal',\n",
       "       'ZELENE_KARTY_vmRezervProVydanZk', 'FIRMA_ic', 'PRAC_POMER_od',\n",
       "       'FIRMA_nazev', 'PRACOVISTE_cp', 'SMENNOST_nazev',\n",
       "       'ZAMEST_KARTY_vmRezervProPodanZm', 'OBOR_kod', 'UVAZEK_nazev',\n",
       "       'celkemVm', 'PRACOVISTE_obec', 'VHODNE_PRO_cizince', 'SMENNOST_kod',\n",
       "       'KONOS_email', 'KONOS_jmeno', 'PRACPRAVNI_VZTAH_nazev',\n",
       "       'ZELENE_KARTY_pocetVmProZk', 'KONOS_prijmeni', 'PRACOVISTE_posta',\n",
       "       'PRACOVISTE_nazev', 'ZELENE_KARTY_vmRezervProZk', 'PRACOVISTE_co',\n",
       "       'KONOS_telefon', 'PRACOVISTE_ulice', 'PRAC_POMER_do', 'VZDELANI_nazev',\n",
       "       'POVOLANI_kod', 'VZDELANI_kod', 'POVOLANI_nazev', 'JAZYK_nazev',\n",
       "       'DOVEDNOST_nazev', 'JAZYK_kod', 'KONOS_adresa', 'JAZYK_uroven',\n",
       "       'DOVEDNOST_kod', 'JAZYK_urovenKod', 'KONOS_titul', 'FIRMA_www',\n",
       "       'VYHODA_kod', 'VYHODA_nazev', 'VYHODA_popis', 'KONOS_titulZa',\n",
       "       'DOVEDNOST_popis', 'JAZYK_popis', 'DOVEDNOST_praxe', 'POVOLANI_praxe',\n",
       "       'addr'],\n",
       "      dtype='object')"
      ]
     },
     "execution_count": 3,
     "metadata": {},
     "output_type": "execute_result"
    }
   ],
   "source": [
    "data.columns"
   ]
  },
  {
   "cell_type": "code",
   "execution_count": 8,
   "metadata": {
    "collapsed": false
   },
   "outputs": [
    {
     "data": {
      "text/plain": [
       "Kuchaři (kromě šéfkuchařů)                                                                                53\n",
       "Číšníci a servírky                                                                                        38\n",
       "Svářeči                                                                                                   28\n",
       "Řidiči nákladních automobilů, tahačů a speciálních vozidel                                                24\n",
       "Obchodní zástupci                                                                                         22\n",
       "Řidiči nákladních automobilů (kromě tahačů)                                                               17\n",
       "Skladníci, obsluha manipulačních vozíků                                                                   14\n",
       "Zedníci (kromě zedníků ohnivzdorného zdiva)                                                               14\n",
       "Mechanici a opraváři osobních automobilů                                                                  13\n",
       "Seřizovači a obsluha číslicově řízených strojů                                                            13\n",
       "Pracovníci ostrahy, strážní                                                                               12\n",
       "Strojírenští technici projektanti, konstruktéři                                                           11\n",
       "Zámečníci strojů                                                                                          11\n",
       "Uklízeči a pomocníci v ubytovacích a vzdělávacích zařízeních                                              10\n",
       "Všeobecní administrativní pracovníci                                                                      10\n",
       "Pomocníci v kuchyni                                                                                       10\n",
       "Provozní zámečníci, údržbáři                                                                              10\n",
       "Prodavači potravinářského zboží                                                                           10\n",
       "Seřizovači a obsluha obráběcích strojů (kromě dřevoobráběcích)                                             9\n",
       "Strojírenští kovodělníci                                                                                   9\n",
       "Švadleny, šičky, vyšívači a pracovníci v příbuzných oborech                                                8\n",
       "Dělníci v oblasti výstavby budov                                                                           8\n",
       "Řidiči tahačů                                                                                              8\n",
       "Učitelé na 1. stupni základních škol                                                                       8\n",
       "Obchodní referenti                                                                                         7\n",
       "Elektromechanici                                                                                           7\n",
       "Provozní elektromechanici                                                                                  7\n",
       "Pomocní dělníci ve výrobě                                                                                  7\n",
       "Strojní inženýři projektanti, konstruktéři                                                                 6\n",
       "Stavební a provozní elektrikáři                                                                            6\n",
       "                                                                                                          ..\n",
       "Specialisté v oblasti prodeje a nákupu gumárenských, plastikářských, sklářských a keramických produktů     1\n",
       "Pracovníci v zákaznických kontaktních centrech                                                             1\n",
       "Stavební technici provozní                                                                                 1\n",
       "Mechanici a opraváři autobusů a trolejbusů                                                                 1\n",
       "Řídící pracovníci v zemědělství a zahradnictví                                                             1\n",
       "Obsluha strojů na výrobu a zpracování výrobků z papíru                                                     1\n",
       "Ostatní zubní lékaři se specializací                                                                       1\n",
       "Nutriční asistenti                                                                                         1\n",
       "Technici počítačových sítí a systémů                                                                       1\n",
       "Technici elektronici                                                                                       1\n",
       "Řídící pracovníci v průmyslové výrobě, těžbě, stavebnictví, dopravě a v příbuzných oborech                 1\n",
       "Stavební technici projektanti, konstruktéři                                                                1\n",
       "Techničtí a odborní pracovníci                                                                             1\n",
       "Ostatní specialisté v oblasti účetnictví                                                                   1\n",
       "Číšníci, servírky a barmani                                                                                1\n",
       "Strojní inženýři                                                                                           1\n",
       "Stavební truhláři                                                                                          1\n",
       "Obsluha zařízení ve slévárenství (taviči, slévači)                                                         1\n",
       "Ostatní farmaceuti se specializací                                                                         1\n",
       "Pomocní pracovníci v oblasti těžby a stavebnictví                                                          1\n",
       "Zpracovatelé ovoce, zeleniny a příbuzných produktů                                                         1\n",
       "Uklízeči a pomocníci ve zdravotnických a sociálních zařízeních                                             1\n",
       "Ostatní pomocní a nekvalifikovaní pracovníci ve službách jinde neuvedení                                   1\n",
       "Referenti a vrchní referenti Vězeňské služby ČR                                                            1\n",
       "Porážeči zvířat, bourači masa                                                                              1\n",
       "Analytici a vývojáři softwaru a počítačových aplikací                                                      1\n",
       "Uklízeči a pomocníci v domácnostech, hotelích, administrativních, průmyslových a jiných objektech          1\n",
       "Inženýři elektronici kontroly a řízení kvality                                                             1\n",
       "Sestry pro pediatrii                                                                                       1\n",
       "Chovatelé a ošetřovatelé skotu, koz a ovcí                                                                 1\n",
       "dtype: int64"
      ]
     },
     "execution_count": 8,
     "metadata": {},
     "output_type": "execute_result"
    }
   ],
   "source": [
    "data.POVOLANI_nazev.value_counts()"
   ]
  },
  {
   "cell_type": "code",
   "execution_count": null,
   "metadata": {
    "collapsed": true
   },
   "outputs": [],
   "source": []
  },
  {
   "cell_type": "code",
   "execution_count": 13,
   "metadata": {
    "collapsed": false,
    "scrolled": true
   },
   "outputs": [
    {
     "data": {
      "text/plain": [
       "OBOR_nazev\n",
       "Administrativa             14047.622677\n",
       "Doprava                    18067.642422\n",
       "Finance                    17807.565607\n",
       "Informační technologie     25266.728492\n",
       "Kultura a sport            15678.268293\n",
       "Management                 36246.923077\n",
       "Obchod a cestovní ruch     13691.182070\n",
       "Obrana a ochrana            9328.611145\n",
       "Právo                      17103.760000\n",
       "Služby                     10948.238767\n",
       "Stavebnictví               13600.313385\n",
       "Výchova a vzdělávání       15018.819174\n",
       "Výroba a provoz            14601.993934\n",
       "Věda a výzkum              28137.391304\n",
       "Zdravotnictví              18080.129447\n",
       "Zemědělství a lesnictví    12166.983153\n",
       "Name: MZDA_min, dtype: float64"
      ]
     },
     "execution_count": 13,
     "metadata": {},
     "output_type": "execute_result"
    }
   ],
   "source": [
    "data.groupby('OBOR_nazev').MZDA_min.mean()"
   ]
  },
  {
   "cell_type": "code",
   "execution_count": 8,
   "metadata": {
    "collapsed": false
   },
   "outputs": [],
   "source": [
    "data.groupby(['PRACOVISTE_okres', 'OBOR_nazev']).MZDA_min.mean().to_csv(r'data/platy_obory_okresy.csv', encoding='utf-8')"
   ]
  }
 ],
 "metadata": {
  "kernelspec": {
   "display_name": "Python 3",
   "language": "python",
   "name": "python3"
  },
  "language_info": {
   "codemirror_mode": {
    "name": "ipython",
    "version": 3
   },
   "file_extension": ".py",
   "mimetype": "text/x-python",
   "name": "python",
   "nbconvert_exporter": "python",
   "pygments_lexer": "ipython3",
   "version": "3.4.3"
  }
 },
 "nbformat": 4,
 "nbformat_minor": 0
}
